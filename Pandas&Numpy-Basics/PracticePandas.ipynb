{
 "cells": [
  {
   "cell_type": "markdown",
   "metadata": {},
   "source": [
    "## Pandas: Creating & Viewing Data\n",
    "\n",
    "Pandas is a popular package in the Python Machine Learning ecosystem. It is used for data manipulation and analysis and offers many unique features. Pandas is tailored toward working with structured, tabular data, such as the kind of data that you would find in spreadsheets and in relational databases. \n",
    "\n",
    "One of Pandas' core data structures is called the DataFrame, which is a two-dimensional table in which data is organized in rows and columns.\n",
    "Pandas is well integrated in the Python Machine Learning ecosystem. Many common ML libraries work with Pandas DataFrames, allowing for a seamless transition from data preparation to model building.\n",
    "\n",
    "Pandas is the primary package we will use in this program to operate on data. In this exercise you will use Pandas to practice creating data, accessing and viewing data.\n",
    "\n",
    "For more information about the Pandas package and Pandas DataFrames, consult the Pandas online [API Reference](https://pandas.pydata.org/docs/reference/index.html)."
   ]
  },
  {
   "cell_type": "markdown",
   "metadata": {},
   "source": [
    "## Step 1\n",
    "\n",
    "The code cell below imports the `pandas` package, using its conventional shorthand name, `pd`. It then imports the `numpy` package using its conventional shorthand name, `np`. Run the cell below."
   ]
  },
  {
   "cell_type": "code",
   "execution_count": 2,
   "metadata": {},
   "outputs": [],
   "source": [
    "import pandas as pd\n",
    "import numpy as np"
   ]
  },
  {
   "cell_type": "markdown",
   "metadata": {},
   "source": [
    "## Step 2\n",
    "\n",
    "In the code cell below, use numpy's `np.random.normal()` function to create two arrays, each with size=100, loc=0.0, and scale=1.0. Name your arrays `a` and `b`.\n",
    "\n",
    "\n",
    "If you would like to learn how to use the `np.random.normal()` function, use the help <b>?</b> functionality by running the line `np.random.normal?` in the code cell below. Recall that you can use help by specifying the function name (in this case, `np.random.normal`), followed by `?`. You can also access the online [documentation](https://numpy.org/doc/stable/reference/random/generated/numpy.random.normal.html).\n",
    "\n"
   ]
  },
  {
   "cell_type": "markdown",
   "metadata": {},
   "source": [
    "### Graded Cell\n",
    "\n",
    "The cell below will be graded. Remove the line \"raise NotImplementedError()\" before writing your code."
   ]
  },
  {
   "cell_type": "code",
   "execution_count": 6,
   "metadata": {
    "deletable": false,
    "nbgrader": {
     "checksum": "ee34189787d27b0e4cfc16d497ebc2f7",
     "grade": false,
     "grade_id": "cell-a-b",
     "locked": false,
     "schema_version": 1,
     "solution": true
    }
   },
   "outputs": [
    {
     "data": {
      "text/plain": [
       "array([ 0.44141255, -0.38912303, -2.50934919, -0.58248573,  0.49991292,\n",
       "       -0.796007  , -0.18972478, -1.03766545, -1.07117498, -0.37216883,\n",
       "       -2.03004633,  1.13270628,  0.6036409 , -1.26188746, -1.78140398,\n",
       "        0.65448374, -0.29569   , -0.9008792 ,  0.88564829, -0.48702778,\n",
       "       -0.77596906,  0.33004528,  0.56946906, -0.49176131,  0.09902077,\n",
       "       -0.83570192,  0.04135631, -0.89739551,  0.84516365, -0.10873797,\n",
       "        1.31395656, -0.46760128, -0.22282476, -0.51935323,  1.13585247,\n",
       "       -1.32950704, -0.58135748,  1.06608278,  0.11442847,  0.53168384,\n",
       "        2.20553598, -0.12842799, -1.95433671,  0.99032293,  0.39234071,\n",
       "        0.31840581,  1.21056528,  0.69422643, -0.1446756 ,  1.93269558,\n",
       "        1.30962518,  0.15236627, -1.14090681,  1.21316816, -0.50747557,\n",
       "        1.43885145, -1.86064011,  1.22177558,  0.57509412, -0.14978115,\n",
       "       -0.62082639, -0.11478488, -1.58686695, -1.17985424,  0.43998858,\n",
       "        1.69026851, -0.39923901, -0.56356394,  0.21572688, -0.7638417 ,\n",
       "       -1.14597552,  1.57708614, -1.25902309,  0.49115691, -0.91588654,\n",
       "        0.95287565,  0.12967683, -0.17368029, -0.72225031,  0.19689309,\n",
       "        0.31703075, -1.46448242, -0.79029395,  1.26155629, -0.9625125 ,\n",
       "       -2.44477117, -0.12265827,  1.68401291, -1.5997817 ,  0.07061724,\n",
       "        1.45299398,  0.44042947,  0.18362149, -0.28639758, -0.61681378,\n",
       "        0.51387221,  0.99497354, -1.23466062,  0.90246064,  0.69484443])"
      ]
     },
     "execution_count": 6,
     "metadata": {},
     "output_type": "execute_result"
    }
   ],
   "source": [
    "a = np.random.normal(loc=0.0, scale=1.0, size=100)\n",
    "b = np.random.normal(loc=0.0, scale=1.0, size=100)\n",
    "a"
   ]
  },
  {
   "cell_type": "markdown",
   "metadata": {},
   "source": [
    "### Self-Check\n",
    "\n",
    "Run the cell below to test the correctness of your code above before submitting for grading. Do not add code or delete code in the cell."
   ]
  },
  {
   "cell_type": "code",
   "execution_count": 4,
   "metadata": {
    "deletable": false,
    "editable": false,
    "nbgrader": {
     "checksum": "cb20f6f7fabe601393f74b7a0a3b0805",
     "grade": true,
     "grade_id": "cell-a-b-test",
     "locked": true,
     "points": 1,
     "schema_version": 1,
     "solution": false
    }
   },
   "outputs": [
    {
     "name": "stdout",
     "output_type": "stream",
     "text": [
      "Correct!\n"
     ]
    }
   ],
   "source": [
    "# Run this self-test cell to check your code; \n",
    "# do not add code or delete code in this cell\n",
    "from jn import testAB\n",
    "\n",
    "try:\n",
    "    p, err = testAB(a,b)\n",
    "    print(err)\n",
    "except Exception as e:\n",
    "    print(\"Error!\\n\" + str(e))\n",
    "    \n"
   ]
  },
  {
   "cell_type": "markdown",
   "metadata": {},
   "source": [
    "## Step 3\n",
    "\n",
    "Now we'll convert our data to a Pandas DataFrame. The `DataFrame()` function is the primary way to create DataFrames. You will use this approach to create a DataFrame out of the two arrays created in the previous step. \n",
    "\n",
    "Your DataFrame will contain two columns, named `x1` and `x2`.\n",
    "\n",
    "1: First create a Python dictionary in which the keys are the names of the columns you want to create, and the values are the arrays. Column `x1` will contain array `a` and column `x2` will contain array `b`. Assign this dictionary to variable `d`.\n",
    "\n",
    "2: Next use the `pd.DataFrame()` function to convert dictionary `d` to a DataFrame, and assign the result to variable `df`.\n",
    "\n",
    "For more information on how to use the `DataFrame()` function, consult the online [documentation](https://pandas.pydata.org/docs/reference/api/pandas.DataFrame.html#pandas.DataFrame)."
   ]
  },
  {
   "cell_type": "markdown",
   "metadata": {},
   "source": [
    "### Graded Cell\n",
    "\n",
    "The cell below will be graded. Remove the line \"raise NotImplementedError()\" before writing your code."
   ]
  },
  {
   "cell_type": "code",
   "execution_count": 8,
   "metadata": {
    "deletable": false,
    "nbgrader": {
     "checksum": "03e92bb3bc377629072eafb372f2e22f",
     "grade": false,
     "grade_id": "cell-df",
     "locked": false,
     "schema_version": 1,
     "solution": true
    }
   },
   "outputs": [
    {
     "data": {
      "text/html": [
       "<div>\n",
       "<style scoped>\n",
       "    .dataframe tbody tr th:only-of-type {\n",
       "        vertical-align: middle;\n",
       "    }\n",
       "\n",
       "    .dataframe tbody tr th {\n",
       "        vertical-align: top;\n",
       "    }\n",
       "\n",
       "    .dataframe thead th {\n",
       "        text-align: right;\n",
       "    }\n",
       "</style>\n",
       "<table border=\"1\" class=\"dataframe\">\n",
       "  <thead>\n",
       "    <tr style=\"text-align: right;\">\n",
       "      <th></th>\n",
       "      <th>x1</th>\n",
       "      <th>x2</th>\n",
       "    </tr>\n",
       "  </thead>\n",
       "  <tbody>\n",
       "    <tr>\n",
       "      <th>0</th>\n",
       "      <td>0.441413</td>\n",
       "      <td>0.750737</td>\n",
       "    </tr>\n",
       "    <tr>\n",
       "      <th>1</th>\n",
       "      <td>-0.389123</td>\n",
       "      <td>0.172735</td>\n",
       "    </tr>\n",
       "    <tr>\n",
       "      <th>2</th>\n",
       "      <td>-2.509349</td>\n",
       "      <td>0.645523</td>\n",
       "    </tr>\n",
       "    <tr>\n",
       "      <th>3</th>\n",
       "      <td>-0.582486</td>\n",
       "      <td>-0.427893</td>\n",
       "    </tr>\n",
       "    <tr>\n",
       "      <th>4</th>\n",
       "      <td>0.499913</td>\n",
       "      <td>-0.341789</td>\n",
       "    </tr>\n",
       "    <tr>\n",
       "      <th>...</th>\n",
       "      <td>...</td>\n",
       "      <td>...</td>\n",
       "    </tr>\n",
       "    <tr>\n",
       "      <th>95</th>\n",
       "      <td>0.513872</td>\n",
       "      <td>-0.100702</td>\n",
       "    </tr>\n",
       "    <tr>\n",
       "      <th>96</th>\n",
       "      <td>0.994974</td>\n",
       "      <td>-0.136985</td>\n",
       "    </tr>\n",
       "    <tr>\n",
       "      <th>97</th>\n",
       "      <td>-1.234661</td>\n",
       "      <td>0.241281</td>\n",
       "    </tr>\n",
       "    <tr>\n",
       "      <th>98</th>\n",
       "      <td>0.902461</td>\n",
       "      <td>0.979960</td>\n",
       "    </tr>\n",
       "    <tr>\n",
       "      <th>99</th>\n",
       "      <td>0.694844</td>\n",
       "      <td>0.612857</td>\n",
       "    </tr>\n",
       "  </tbody>\n",
       "</table>\n",
       "<p>100 rows × 2 columns</p>\n",
       "</div>"
      ],
      "text/plain": [
       "          x1        x2\n",
       "0   0.441413  0.750737\n",
       "1  -0.389123  0.172735\n",
       "2  -2.509349  0.645523\n",
       "3  -0.582486 -0.427893\n",
       "4   0.499913 -0.341789\n",
       "..       ...       ...\n",
       "95  0.513872 -0.100702\n",
       "96  0.994974 -0.136985\n",
       "97 -1.234661  0.241281\n",
       "98  0.902461  0.979960\n",
       "99  0.694844  0.612857\n",
       "\n",
       "[100 rows x 2 columns]"
      ]
     },
     "execution_count": 8,
     "metadata": {},
     "output_type": "execute_result"
    }
   ],
   "source": [
    "d = {'x1': a, 'x2': b}\n",
    "df = pd.DataFrame(d)\n",
    "df"
   ]
  },
  {
   "cell_type": "markdown",
   "metadata": {},
   "source": [
    "### Self-Check\n",
    "\n",
    "Run the cell below to test the correctness of your code above before submitting for grading. Do not add code or delete code in the cell."
   ]
  },
  {
   "cell_type": "code",
   "execution_count": 9,
   "metadata": {
    "deletable": false,
    "editable": false,
    "nbgrader": {
     "checksum": "435674309e871e93dece73fc69184e14",
     "grade": true,
     "grade_id": "cell-df-test",
     "locked": true,
     "points": 2,
     "schema_version": 1,
     "solution": false
    }
   },
   "outputs": [
    {
     "name": "stdout",
     "output_type": "stream",
     "text": [
      "Correct!\n"
     ]
    }
   ],
   "source": [
    "# Run this self-test cell to check your code; \n",
    "# do not add code or delete code in this cell\n",
    "from jn import testDf\n",
    "\n",
    "try:\n",
    "    p, err = testDf(d,df,a,b)\n",
    "    print(err)\n",
    "except Exception as e:\n",
    "    print(\"Error!\\n\" + str(e))\n",
    "    \n"
   ]
  },
  {
   "cell_type": "markdown",
   "metadata": {},
   "source": [
    "### Step 4\n",
    "\n",
    "The Pandas `head()` method allows you to view the first <i>n</i> rows in a DataFrame. The syntax is `DataFrame_obj.head()`. You can consult the [online documentation](https://pandas.pydata.org/docs/reference/api/pandas.DataFrame.head.html) to see how to use this method. You can also use IPython's `help` functionality by typing `df.head?` in the cell below. Recall that you can obtain documentation by specifying the object name (in this case, `df`), followed by the method or property (in this case, `head`), followed by `?`.\n",
    "\n",
    "\n",
    "In the code cell below, use the `head()` method to view the first 5 rows of dataframe `df`.\n"
   ]
  },
  {
   "cell_type": "code",
   "execution_count": 10,
   "metadata": {},
   "outputs": [
    {
     "data": {
      "text/html": [
       "<div>\n",
       "<style scoped>\n",
       "    .dataframe tbody tr th:only-of-type {\n",
       "        vertical-align: middle;\n",
       "    }\n",
       "\n",
       "    .dataframe tbody tr th {\n",
       "        vertical-align: top;\n",
       "    }\n",
       "\n",
       "    .dataframe thead th {\n",
       "        text-align: right;\n",
       "    }\n",
       "</style>\n",
       "<table border=\"1\" class=\"dataframe\">\n",
       "  <thead>\n",
       "    <tr style=\"text-align: right;\">\n",
       "      <th></th>\n",
       "      <th>x1</th>\n",
       "      <th>x2</th>\n",
       "    </tr>\n",
       "  </thead>\n",
       "  <tbody>\n",
       "    <tr>\n",
       "      <th>0</th>\n",
       "      <td>0.441413</td>\n",
       "      <td>0.750737</td>\n",
       "    </tr>\n",
       "    <tr>\n",
       "      <th>1</th>\n",
       "      <td>-0.389123</td>\n",
       "      <td>0.172735</td>\n",
       "    </tr>\n",
       "    <tr>\n",
       "      <th>2</th>\n",
       "      <td>-2.509349</td>\n",
       "      <td>0.645523</td>\n",
       "    </tr>\n",
       "    <tr>\n",
       "      <th>3</th>\n",
       "      <td>-0.582486</td>\n",
       "      <td>-0.427893</td>\n",
       "    </tr>\n",
       "    <tr>\n",
       "      <th>4</th>\n",
       "      <td>0.499913</td>\n",
       "      <td>-0.341789</td>\n",
       "    </tr>\n",
       "  </tbody>\n",
       "</table>\n",
       "</div>"
      ],
      "text/plain": [
       "         x1        x2\n",
       "0  0.441413  0.750737\n",
       "1 -0.389123  0.172735\n",
       "2 -2.509349  0.645523\n",
       "3 -0.582486 -0.427893\n",
       "4  0.499913 -0.341789"
      ]
     },
     "execution_count": 10,
     "metadata": {},
     "output_type": "execute_result"
    }
   ],
   "source": [
    "# YOUR CODE HERE - this cell will not be graded\n",
    "df.head(5)"
   ]
  },
  {
   "cell_type": "markdown",
   "metadata": {},
   "source": [
    "### DataFrame Indexing and Slicing\n",
    "\n",
    "As you have seen, DataFrames are two-dimensional tables, labeled by row and column names, containing a set of column-oriented data such that each column has a particular datatype (dtype). Like Python lists, Pandas DataFrames use 0-based indexing. That is, the first row in a DataFrame has an index of 0 and the first column in a DataFrame has an index of 0.\n",
    "\n",
    "You may be familiar with indexing, which is the process of accessing elements of data in a data structure such as a list or a dictionary by specifying which element(s) one is interested in. Just as you can index into Python lists and dictionaries, you can also index into Pandas DataFrames. Because DataFrames have row and column labels (names), Pandas provides a very useful ability to index, either based on those labels or on the positions of rows and columns. For example: Python lists and NumPy arrays are indexed by integer position (e.g., ```my_list[3]``` or ```my_array[5,7]```), while Python dictionaries are indexed by keys (e.g., ```my_dict['name']```).  Because Pandas DataFrames contain data in a positional order, *and* have row and column labels, they can be indexed both by position and by label. You can also \"slice\" a Pandas DataFrame. Slicing allows you to select a subset of rows or columns from the DataFrame. Just as with Python lists, slicing is supported using the colon operator ```:``` (you can also use the colon operator to slice into NumPy arrays).\n",
    "\n",
    "\n",
    "#### Mechanisms for indexing and Slicing\n",
    "\n",
    "Indexing and slicing DataFrames can be done through various mechanisms: \n",
    "\n",
    "* ```[]```\n",
    "* ```loc[]```\n",
    "* ```iloc[]```\n",
    "\n",
    "\n",
    "The first of these, ```[]```, is the square-bracket based indexing that we are familiar with from Python lists and  dictionaries.  Because Pandas DataFrames are generally column-oriented, however, indexing with square brackets results in selecting a particular column based on its label. Each column in the DataFrame is of the Pandas Series datatype, which is a one-dimensional array, similar to a NumPy array. We can loosely think of a DataFrame as something like a dictionary of Series objects: each column label is like a key, and the value associated with that key is the data in that particular column, which is a Pandas Series.  For example, ```df['x2']``` will extract the column labeled 'x2' and will return a Series. \n",
    "\n",
    "You can slice a DataFrame using square-bracket based indexing. This will allow you to slice the rows in the DataFrame using an integer range. For example, `df[:3]` will return the first three rows in the DataFrame.\n",
    "\n",
    "Indexing and slicing a DataFrame using ```loc``` is more general, in that it enables you to access both rows and columns based on their labels.  It uses the same sort of multi-dimensional indexing that you may have seen with other data structures (e.g. `[][]`), although with row and/or column labels rather than integer positional indexes.  By this we mean that the first entry in an index refers to row label, and the second index refers to a column label.  If only one entry is specified, it is used to identify a row in a DataFrame. The syntax for `loc` is `DataFrame_obj.loc[]` or `DataFrame_obj.loc[][]`. \n",
    "\n",
    "On the other hand, `iloc` allows you to access rows and columns with specific integer positions (integer-based indexing). The syntax for `iloc` is `DataFrame_obj.iloc[]` or `DataFrame_obj.iloc[][]`.\n",
    "\n",
    "\n",
    "In the steps below, you will practice indexing and slicing a DataFrame using some of the above methods.  Online Pandas documentation describing indexing and slicing in great detail can be found [here](https://pandas.pydata.org/pandas-docs/stable/user_guide/indexing.html).\n",
    "\n",
    "\n"
   ]
  },
  {
   "cell_type": "markdown",
   "metadata": {},
   "source": [
    "### Step 5\n",
    "\n",
    "Add a new column to your `df` DataFrame. You can add this new column to `df` by:\n",
    "1. using bracket notation and specifying the label of the new column: <code>df['new_column_label']</code>\n",
    "2. assigning it the values of the column: \n",
    "<code>df['new_column_label'] = column values</code>\n",
    "\n",
    "\n",
    "Name your new column <b>x3</b>.  Column <b>x3</b> will consist of the sum of the values in column <b>x1</b> and column <b>x2</b>. Hint: You can access each column using bracket notation as seen above, and you can add entire columns together using the addition operation (`+`).\n",
    "\n",
    "After you have added the new column `x3` to DataFrame `df`, use the `head()` method to examine the new values in `df`.\n"
   ]
  },
  {
   "cell_type": "markdown",
   "metadata": {},
   "source": [
    "### Graded Cell\n",
    "\n",
    "The cell below will be graded. Remove the line \"raise NotImplementedError()\" before writing your code."
   ]
  },
  {
   "cell_type": "code",
   "execution_count": 12,
   "metadata": {
    "deletable": false,
    "nbgrader": {
     "checksum": "4c3d49749599ff1b250540fd6b1c6c5f",
     "grade": false,
     "grade_id": "cell-columnx3",
     "locked": false,
     "schema_version": 1,
     "solution": true
    }
   },
   "outputs": [
    {
     "data": {
      "text/html": [
       "<div>\n",
       "<style scoped>\n",
       "    .dataframe tbody tr th:only-of-type {\n",
       "        vertical-align: middle;\n",
       "    }\n",
       "\n",
       "    .dataframe tbody tr th {\n",
       "        vertical-align: top;\n",
       "    }\n",
       "\n",
       "    .dataframe thead th {\n",
       "        text-align: right;\n",
       "    }\n",
       "</style>\n",
       "<table border=\"1\" class=\"dataframe\">\n",
       "  <thead>\n",
       "    <tr style=\"text-align: right;\">\n",
       "      <th></th>\n",
       "      <th>x1</th>\n",
       "      <th>x2</th>\n",
       "      <th>x3</th>\n",
       "    </tr>\n",
       "  </thead>\n",
       "  <tbody>\n",
       "    <tr>\n",
       "      <th>0</th>\n",
       "      <td>0.441413</td>\n",
       "      <td>0.750737</td>\n",
       "      <td>1.192150</td>\n",
       "    </tr>\n",
       "    <tr>\n",
       "      <th>1</th>\n",
       "      <td>-0.389123</td>\n",
       "      <td>0.172735</td>\n",
       "      <td>-0.216388</td>\n",
       "    </tr>\n",
       "    <tr>\n",
       "      <th>2</th>\n",
       "      <td>-2.509349</td>\n",
       "      <td>0.645523</td>\n",
       "      <td>-1.863826</td>\n",
       "    </tr>\n",
       "    <tr>\n",
       "      <th>3</th>\n",
       "      <td>-0.582486</td>\n",
       "      <td>-0.427893</td>\n",
       "      <td>-1.010379</td>\n",
       "    </tr>\n",
       "    <tr>\n",
       "      <th>4</th>\n",
       "      <td>0.499913</td>\n",
       "      <td>-0.341789</td>\n",
       "      <td>0.158124</td>\n",
       "    </tr>\n",
       "    <tr>\n",
       "      <th>...</th>\n",
       "      <td>...</td>\n",
       "      <td>...</td>\n",
       "      <td>...</td>\n",
       "    </tr>\n",
       "    <tr>\n",
       "      <th>95</th>\n",
       "      <td>0.513872</td>\n",
       "      <td>-0.100702</td>\n",
       "      <td>0.413171</td>\n",
       "    </tr>\n",
       "    <tr>\n",
       "      <th>96</th>\n",
       "      <td>0.994974</td>\n",
       "      <td>-0.136985</td>\n",
       "      <td>0.857989</td>\n",
       "    </tr>\n",
       "    <tr>\n",
       "      <th>97</th>\n",
       "      <td>-1.234661</td>\n",
       "      <td>0.241281</td>\n",
       "      <td>-0.993380</td>\n",
       "    </tr>\n",
       "    <tr>\n",
       "      <th>98</th>\n",
       "      <td>0.902461</td>\n",
       "      <td>0.979960</td>\n",
       "      <td>1.882420</td>\n",
       "    </tr>\n",
       "    <tr>\n",
       "      <th>99</th>\n",
       "      <td>0.694844</td>\n",
       "      <td>0.612857</td>\n",
       "      <td>1.307701</td>\n",
       "    </tr>\n",
       "  </tbody>\n",
       "</table>\n",
       "<p>100 rows × 3 columns</p>\n",
       "</div>"
      ],
      "text/plain": [
       "          x1        x2        x3\n",
       "0   0.441413  0.750737  1.192150\n",
       "1  -0.389123  0.172735 -0.216388\n",
       "2  -2.509349  0.645523 -1.863826\n",
       "3  -0.582486 -0.427893 -1.010379\n",
       "4   0.499913 -0.341789  0.158124\n",
       "..       ...       ...       ...\n",
       "95  0.513872 -0.100702  0.413171\n",
       "96  0.994974 -0.136985  0.857989\n",
       "97 -1.234661  0.241281 -0.993380\n",
       "98  0.902461  0.979960  1.882420\n",
       "99  0.694844  0.612857  1.307701\n",
       "\n",
       "[100 rows x 3 columns]"
      ]
     },
     "execution_count": 12,
     "metadata": {},
     "output_type": "execute_result"
    }
   ],
   "source": [
    "df['x3'] = df['x1'] + df['x2']\n",
    "df"
   ]
  },
  {
   "cell_type": "markdown",
   "metadata": {},
   "source": [
    "### Self-Check\n",
    "\n",
    "Run the cell below to test the correctness of your code above before submitting for grading. Do not add code or delete code in the cell."
   ]
  },
  {
   "cell_type": "code",
   "execution_count": 8,
   "metadata": {
    "deletable": false,
    "editable": false,
    "nbgrader": {
     "checksum": "8ecd6ff2e99854b55e490a6334700801",
     "grade": true,
     "grade_id": "cell-columnx3-test",
     "locked": true,
     "points": 2,
     "schema_version": 1,
     "solution": false
    }
   },
   "outputs": [
    {
     "name": "stdout",
     "output_type": "stream",
     "text": [
      "Correct!\n"
     ]
    }
   ],
   "source": [
    "# Run this self-test cell to check your code; \n",
    "# do not add code or delete code in this cell\n",
    "from jn import testCol\n",
    "\n",
    "try:\n",
    "    p, err = testCol(df)\n",
    "    print(err)\n",
    "except Exception as e:\n",
    "    print(\"Error!\\n\" + str(e))\n",
    "    \n"
   ]
  },
  {
   "cell_type": "markdown",
   "metadata": {},
   "source": [
    "### Step 6\n",
    "\n",
    "Oftentimes you may want to access a value in a specific example (row) in your DataFrame. Run the code cell below and examine the values in DataFrame `df`. Note the value in column <b>x1</b> of row <b>5</b> (row with the index of 5).\n"
   ]
  },
  {
   "cell_type": "code",
   "execution_count": 9,
   "metadata": {},
   "outputs": [
    {
     "data": {
      "text/html": [
       "<div>\n",
       "<style scoped>\n",
       "    .dataframe tbody tr th:only-of-type {\n",
       "        vertical-align: middle;\n",
       "    }\n",
       "\n",
       "    .dataframe tbody tr th {\n",
       "        vertical-align: top;\n",
       "    }\n",
       "\n",
       "    .dataframe thead th {\n",
       "        text-align: right;\n",
       "    }\n",
       "</style>\n",
       "<table border=\"1\" class=\"dataframe\">\n",
       "  <thead>\n",
       "    <tr style=\"text-align: right;\">\n",
       "      <th></th>\n",
       "      <th>x1</th>\n",
       "      <th>x2</th>\n",
       "      <th>x3</th>\n",
       "    </tr>\n",
       "  </thead>\n",
       "  <tbody>\n",
       "    <tr>\n",
       "      <th>0</th>\n",
       "      <td>0.151264</td>\n",
       "      <td>2.935226</td>\n",
       "      <td>3.086490</td>\n",
       "    </tr>\n",
       "    <tr>\n",
       "      <th>1</th>\n",
       "      <td>-1.712146</td>\n",
       "      <td>-0.471143</td>\n",
       "      <td>-2.183289</td>\n",
       "    </tr>\n",
       "    <tr>\n",
       "      <th>2</th>\n",
       "      <td>0.232983</td>\n",
       "      <td>0.422416</td>\n",
       "      <td>0.655399</td>\n",
       "    </tr>\n",
       "    <tr>\n",
       "      <th>3</th>\n",
       "      <td>1.402881</td>\n",
       "      <td>0.425208</td>\n",
       "      <td>1.828089</td>\n",
       "    </tr>\n",
       "    <tr>\n",
       "      <th>4</th>\n",
       "      <td>-1.111906</td>\n",
       "      <td>-1.118085</td>\n",
       "      <td>-2.229991</td>\n",
       "    </tr>\n",
       "    <tr>\n",
       "      <th>5</th>\n",
       "      <td>1.026413</td>\n",
       "      <td>-0.257546</td>\n",
       "      <td>0.768867</td>\n",
       "    </tr>\n",
       "  </tbody>\n",
       "</table>\n",
       "</div>"
      ],
      "text/plain": [
       "         x1        x2        x3\n",
       "0  0.151264  2.935226  3.086490\n",
       "1 -1.712146 -0.471143 -2.183289\n",
       "2  0.232983  0.422416  0.655399\n",
       "3  1.402881  0.425208  1.828089\n",
       "4 -1.111906 -1.118085 -2.229991\n",
       "5  1.026413 -0.257546  0.768867"
      ]
     },
     "execution_count": 9,
     "metadata": {},
     "output_type": "execute_result"
    }
   ],
   "source": [
    "df.head(6)"
   ]
  },
  {
   "cell_type": "markdown",
   "metadata": {},
   "source": [
    "Pandas allows you to retrieve this value. It allows you to access a row as if it were a list using either `iloc` or `loc`. You can specify the column and row by using bracket notation and supplying either the label when using `loc` or its numerical index position when using `iloc`. \n",
    "\n",
    "Examine the code in the cells below and run the cells to see the results. Notice that they both return the expected value."
   ]
  },
  {
   "cell_type": "code",
   "execution_count": 10,
   "metadata": {},
   "outputs": [
    {
     "data": {
      "text/plain": [
       "1.0264127291788026"
      ]
     },
     "execution_count": 10,
     "metadata": {},
     "output_type": "execute_result"
    }
   ],
   "source": [
    "# Note that while loc accesses rows based on their labels (names), the code is using an integer value to \n",
    "# access the row. \n",
    "# This is because in DataFrame df, a row's label is the same as its numerical index position.\n",
    "# Therefore loc is using the label of 5 to access the row\n",
    "\n",
    "df.loc[5]['x1']"
   ]
  },
  {
   "cell_type": "code",
   "execution_count": 11,
   "metadata": {},
   "outputs": [
    {
     "data": {
      "text/plain": [
       "1.0264127291788026"
      ]
     },
     "execution_count": 11,
     "metadata": {},
     "output_type": "execute_result"
    }
   ],
   "source": [
    "df.iloc[5][0]"
   ]
  },
  {
   "cell_type": "markdown",
   "metadata": {},
   "source": [
    "### Step 7\n",
    "\n",
    "You can also access a subset of rows and columns in a DataFrame using slicing. The code cell below retrieves the rows starting at row 10 and ending at row 13."
   ]
  },
  {
   "cell_type": "code",
   "execution_count": 12,
   "metadata": {},
   "outputs": [
    {
     "data": {
      "text/html": [
       "<div>\n",
       "<style scoped>\n",
       "    .dataframe tbody tr th:only-of-type {\n",
       "        vertical-align: middle;\n",
       "    }\n",
       "\n",
       "    .dataframe tbody tr th {\n",
       "        vertical-align: top;\n",
       "    }\n",
       "\n",
       "    .dataframe thead th {\n",
       "        text-align: right;\n",
       "    }\n",
       "</style>\n",
       "<table border=\"1\" class=\"dataframe\">\n",
       "  <thead>\n",
       "    <tr style=\"text-align: right;\">\n",
       "      <th></th>\n",
       "      <th>x1</th>\n",
       "      <th>x2</th>\n",
       "      <th>x3</th>\n",
       "    </tr>\n",
       "  </thead>\n",
       "  <tbody>\n",
       "    <tr>\n",
       "      <th>10</th>\n",
       "      <td>-2.687571</td>\n",
       "      <td>0.114403</td>\n",
       "      <td>-2.573168</td>\n",
       "    </tr>\n",
       "    <tr>\n",
       "      <th>11</th>\n",
       "      <td>-1.806476</td>\n",
       "      <td>0.206930</td>\n",
       "      <td>-1.599546</td>\n",
       "    </tr>\n",
       "    <tr>\n",
       "      <th>12</th>\n",
       "      <td>0.833279</td>\n",
       "      <td>-0.586585</td>\n",
       "      <td>0.246694</td>\n",
       "    </tr>\n",
       "    <tr>\n",
       "      <th>13</th>\n",
       "      <td>0.695995</td>\n",
       "      <td>0.706635</td>\n",
       "      <td>1.402631</td>\n",
       "    </tr>\n",
       "  </tbody>\n",
       "</table>\n",
       "</div>"
      ],
      "text/plain": [
       "          x1        x2        x3\n",
       "10 -2.687571  0.114403 -2.573168\n",
       "11 -1.806476  0.206930 -1.599546\n",
       "12  0.833279 -0.586585  0.246694\n",
       "13  0.695995  0.706635  1.402631"
      ]
     },
     "execution_count": 12,
     "metadata": {},
     "output_type": "execute_result"
    }
   ],
   "source": [
    "df[10:14]"
   ]
  },
  {
   "cell_type": "markdown",
   "metadata": {},
   "source": [
    "You can also use slicing to specify every nth value. The code cell below outputs every 8th row in the DataFrame."
   ]
  },
  {
   "cell_type": "code",
   "execution_count": 13,
   "metadata": {},
   "outputs": [
    {
     "data": {
      "text/html": [
       "<div>\n",
       "<style scoped>\n",
       "    .dataframe tbody tr th:only-of-type {\n",
       "        vertical-align: middle;\n",
       "    }\n",
       "\n",
       "    .dataframe tbody tr th {\n",
       "        vertical-align: top;\n",
       "    }\n",
       "\n",
       "    .dataframe thead th {\n",
       "        text-align: right;\n",
       "    }\n",
       "</style>\n",
       "<table border=\"1\" class=\"dataframe\">\n",
       "  <thead>\n",
       "    <tr style=\"text-align: right;\">\n",
       "      <th></th>\n",
       "      <th>x1</th>\n",
       "      <th>x2</th>\n",
       "      <th>x3</th>\n",
       "    </tr>\n",
       "  </thead>\n",
       "  <tbody>\n",
       "    <tr>\n",
       "      <th>0</th>\n",
       "      <td>0.151264</td>\n",
       "      <td>2.935226</td>\n",
       "      <td>3.086490</td>\n",
       "    </tr>\n",
       "    <tr>\n",
       "      <th>8</th>\n",
       "      <td>-0.569635</td>\n",
       "      <td>0.471766</td>\n",
       "      <td>-0.097869</td>\n",
       "    </tr>\n",
       "    <tr>\n",
       "      <th>16</th>\n",
       "      <td>-0.432722</td>\n",
       "      <td>-0.926613</td>\n",
       "      <td>-1.359335</td>\n",
       "    </tr>\n",
       "    <tr>\n",
       "      <th>24</th>\n",
       "      <td>0.517338</td>\n",
       "      <td>1.406661</td>\n",
       "      <td>1.923999</td>\n",
       "    </tr>\n",
       "    <tr>\n",
       "      <th>32</th>\n",
       "      <td>1.070123</td>\n",
       "      <td>-2.223855</td>\n",
       "      <td>-1.153732</td>\n",
       "    </tr>\n",
       "    <tr>\n",
       "      <th>40</th>\n",
       "      <td>-1.294638</td>\n",
       "      <td>1.557382</td>\n",
       "      <td>0.262743</td>\n",
       "    </tr>\n",
       "    <tr>\n",
       "      <th>48</th>\n",
       "      <td>-0.894717</td>\n",
       "      <td>1.902411</td>\n",
       "      <td>1.007693</td>\n",
       "    </tr>\n",
       "    <tr>\n",
       "      <th>56</th>\n",
       "      <td>-0.063296</td>\n",
       "      <td>0.366259</td>\n",
       "      <td>0.302963</td>\n",
       "    </tr>\n",
       "    <tr>\n",
       "      <th>64</th>\n",
       "      <td>-0.196434</td>\n",
       "      <td>-0.811358</td>\n",
       "      <td>-1.007792</td>\n",
       "    </tr>\n",
       "    <tr>\n",
       "      <th>72</th>\n",
       "      <td>0.846140</td>\n",
       "      <td>-1.601955</td>\n",
       "      <td>-0.755815</td>\n",
       "    </tr>\n",
       "    <tr>\n",
       "      <th>80</th>\n",
       "      <td>0.776773</td>\n",
       "      <td>1.574900</td>\n",
       "      <td>2.351673</td>\n",
       "    </tr>\n",
       "    <tr>\n",
       "      <th>88</th>\n",
       "      <td>0.680490</td>\n",
       "      <td>-0.851682</td>\n",
       "      <td>-0.171191</td>\n",
       "    </tr>\n",
       "    <tr>\n",
       "      <th>96</th>\n",
       "      <td>-1.020790</td>\n",
       "      <td>0.096987</td>\n",
       "      <td>-0.923803</td>\n",
       "    </tr>\n",
       "  </tbody>\n",
       "</table>\n",
       "</div>"
      ],
      "text/plain": [
       "          x1        x2        x3\n",
       "0   0.151264  2.935226  3.086490\n",
       "8  -0.569635  0.471766 -0.097869\n",
       "16 -0.432722 -0.926613 -1.359335\n",
       "24  0.517338  1.406661  1.923999\n",
       "32  1.070123 -2.223855 -1.153732\n",
       "40 -1.294638  1.557382  0.262743\n",
       "48 -0.894717  1.902411  1.007693\n",
       "56 -0.063296  0.366259  0.302963\n",
       "64 -0.196434 -0.811358 -1.007792\n",
       "72  0.846140 -1.601955 -0.755815\n",
       "80  0.776773  1.574900  2.351673\n",
       "88  0.680490 -0.851682 -0.171191\n",
       "96 -1.020790  0.096987 -0.923803"
      ]
     },
     "execution_count": 13,
     "metadata": {},
     "output_type": "execute_result"
    }
   ],
   "source": [
    "df[::8]"
   ]
  },
  {
   "cell_type": "markdown",
   "metadata": {},
   "source": [
    "The cell below uses `iloc` to return the column with an index of 2 (column: `x3`) in rows 10-13."
   ]
  },
  {
   "cell_type": "code",
   "execution_count": 14,
   "metadata": {},
   "outputs": [
    {
     "data": {
      "text/html": [
       "<div>\n",
       "<style scoped>\n",
       "    .dataframe tbody tr th:only-of-type {\n",
       "        vertical-align: middle;\n",
       "    }\n",
       "\n",
       "    .dataframe tbody tr th {\n",
       "        vertical-align: top;\n",
       "    }\n",
       "\n",
       "    .dataframe thead th {\n",
       "        text-align: right;\n",
       "    }\n",
       "</style>\n",
       "<table border=\"1\" class=\"dataframe\">\n",
       "  <thead>\n",
       "    <tr style=\"text-align: right;\">\n",
       "      <th></th>\n",
       "      <th>x3</th>\n",
       "    </tr>\n",
       "  </thead>\n",
       "  <tbody>\n",
       "    <tr>\n",
       "      <th>10</th>\n",
       "      <td>-2.573168</td>\n",
       "    </tr>\n",
       "    <tr>\n",
       "      <th>11</th>\n",
       "      <td>-1.599546</td>\n",
       "    </tr>\n",
       "    <tr>\n",
       "      <th>12</th>\n",
       "      <td>0.246694</td>\n",
       "    </tr>\n",
       "    <tr>\n",
       "      <th>13</th>\n",
       "      <td>1.402631</td>\n",
       "    </tr>\n",
       "  </tbody>\n",
       "</table>\n",
       "</div>"
      ],
      "text/plain": [
       "          x3\n",
       "10 -2.573168\n",
       "11 -1.599546\n",
       "12  0.246694\n",
       "13  1.402631"
      ]
     },
     "execution_count": 14,
     "metadata": {},
     "output_type": "execute_result"
    }
   ],
   "source": [
    "df.iloc[10:14, [2]]"
   ]
  },
  {
   "cell_type": "markdown",
   "metadata": {},
   "source": [
    "### Step 8\n",
    "\n",
    "Often times you may want to select rows based on the rows meeting certain conditions. This can be done with the syntax of `DataFrame_obj[condition]` where the <b>condition</b> represents some boolean condition on the data. \n",
    "\n",
    "The code cell below uses this method to find out how many rows have a value greater than 1 in column <b>x3</b>. \n",
    "Run the cell below and inspect the results. You will see all of the rows in the DataFrame in which this condition is met."
   ]
  },
  {
   "cell_type": "code",
   "execution_count": 18,
   "metadata": {},
   "outputs": [
    {
     "data": {
      "text/html": [
       "<div>\n",
       "<style scoped>\n",
       "    .dataframe tbody tr th:only-of-type {\n",
       "        vertical-align: middle;\n",
       "    }\n",
       "\n",
       "    .dataframe tbody tr th {\n",
       "        vertical-align: top;\n",
       "    }\n",
       "\n",
       "    .dataframe thead th {\n",
       "        text-align: right;\n",
       "    }\n",
       "</style>\n",
       "<table border=\"1\" class=\"dataframe\">\n",
       "  <thead>\n",
       "    <tr style=\"text-align: right;\">\n",
       "      <th></th>\n",
       "      <th>x1</th>\n",
       "      <th>x2</th>\n",
       "      <th>x3</th>\n",
       "    </tr>\n",
       "  </thead>\n",
       "  <tbody>\n",
       "    <tr>\n",
       "      <th>0</th>\n",
       "      <td>0.151264</td>\n",
       "      <td>2.935226</td>\n",
       "      <td>3.086490</td>\n",
       "    </tr>\n",
       "    <tr>\n",
       "      <th>3</th>\n",
       "      <td>1.402881</td>\n",
       "      <td>0.425208</td>\n",
       "      <td>1.828089</td>\n",
       "    </tr>\n",
       "    <tr>\n",
       "      <th>7</th>\n",
       "      <td>1.001344</td>\n",
       "      <td>2.569518</td>\n",
       "      <td>3.570862</td>\n",
       "    </tr>\n",
       "    <tr>\n",
       "      <th>13</th>\n",
       "      <td>0.695995</td>\n",
       "      <td>0.706635</td>\n",
       "      <td>1.402631</td>\n",
       "    </tr>\n",
       "    <tr>\n",
       "      <th>18</th>\n",
       "      <td>-0.452037</td>\n",
       "      <td>1.559445</td>\n",
       "      <td>1.107409</td>\n",
       "    </tr>\n",
       "    <tr>\n",
       "      <th>19</th>\n",
       "      <td>0.790251</td>\n",
       "      <td>0.275522</td>\n",
       "      <td>1.065774</td>\n",
       "    </tr>\n",
       "    <tr>\n",
       "      <th>23</th>\n",
       "      <td>0.369460</td>\n",
       "      <td>0.820101</td>\n",
       "      <td>1.189561</td>\n",
       "    </tr>\n",
       "    <tr>\n",
       "      <th>24</th>\n",
       "      <td>0.517338</td>\n",
       "      <td>1.406661</td>\n",
       "      <td>1.923999</td>\n",
       "    </tr>\n",
       "    <tr>\n",
       "      <th>33</th>\n",
       "      <td>1.189502</td>\n",
       "      <td>-0.034384</td>\n",
       "      <td>1.155117</td>\n",
       "    </tr>\n",
       "    <tr>\n",
       "      <th>34</th>\n",
       "      <td>1.346651</td>\n",
       "      <td>-0.211655</td>\n",
       "      <td>1.134995</td>\n",
       "    </tr>\n",
       "    <tr>\n",
       "      <th>36</th>\n",
       "      <td>1.332556</td>\n",
       "      <td>-0.068337</td>\n",
       "      <td>1.264219</td>\n",
       "    </tr>\n",
       "    <tr>\n",
       "      <th>38</th>\n",
       "      <td>1.723317</td>\n",
       "      <td>2.049303</td>\n",
       "      <td>3.772620</td>\n",
       "    </tr>\n",
       "    <tr>\n",
       "      <th>48</th>\n",
       "      <td>-0.894717</td>\n",
       "      <td>1.902411</td>\n",
       "      <td>1.007693</td>\n",
       "    </tr>\n",
       "    <tr>\n",
       "      <th>50</th>\n",
       "      <td>0.710616</td>\n",
       "      <td>0.661459</td>\n",
       "      <td>1.372075</td>\n",
       "    </tr>\n",
       "    <tr>\n",
       "      <th>58</th>\n",
       "      <td>2.873089</td>\n",
       "      <td>1.172903</td>\n",
       "      <td>4.045992</td>\n",
       "    </tr>\n",
       "    <tr>\n",
       "      <th>73</th>\n",
       "      <td>1.086159</td>\n",
       "      <td>0.059866</td>\n",
       "      <td>1.146025</td>\n",
       "    </tr>\n",
       "    <tr>\n",
       "      <th>74</th>\n",
       "      <td>1.798017</td>\n",
       "      <td>1.201106</td>\n",
       "      <td>2.999123</td>\n",
       "    </tr>\n",
       "    <tr>\n",
       "      <th>80</th>\n",
       "      <td>0.776773</td>\n",
       "      <td>1.574900</td>\n",
       "      <td>2.351673</td>\n",
       "    </tr>\n",
       "    <tr>\n",
       "      <th>97</th>\n",
       "      <td>0.473382</td>\n",
       "      <td>0.677902</td>\n",
       "      <td>1.151284</td>\n",
       "    </tr>\n",
       "    <tr>\n",
       "      <th>98</th>\n",
       "      <td>-0.324832</td>\n",
       "      <td>1.379063</td>\n",
       "      <td>1.054231</td>\n",
       "    </tr>\n",
       "  </tbody>\n",
       "</table>\n",
       "</div>"
      ],
      "text/plain": [
       "          x1        x2        x3\n",
       "0   0.151264  2.935226  3.086490\n",
       "3   1.402881  0.425208  1.828089\n",
       "7   1.001344  2.569518  3.570862\n",
       "13  0.695995  0.706635  1.402631\n",
       "18 -0.452037  1.559445  1.107409\n",
       "19  0.790251  0.275522  1.065774\n",
       "23  0.369460  0.820101  1.189561\n",
       "24  0.517338  1.406661  1.923999\n",
       "33  1.189502 -0.034384  1.155117\n",
       "34  1.346651 -0.211655  1.134995\n",
       "36  1.332556 -0.068337  1.264219\n",
       "38  1.723317  2.049303  3.772620\n",
       "48 -0.894717  1.902411  1.007693\n",
       "50  0.710616  0.661459  1.372075\n",
       "58  2.873089  1.172903  4.045992\n",
       "73  1.086159  0.059866  1.146025\n",
       "74  1.798017  1.201106  2.999123\n",
       "80  0.776773  1.574900  2.351673\n",
       "97  0.473382  0.677902  1.151284\n",
       "98 -0.324832  1.379063  1.054231"
      ]
     },
     "execution_count": 18,
     "metadata": {},
     "output_type": "execute_result"
    }
   ],
   "source": [
    "df[df['x3']>1]"
   ]
  },
  {
   "cell_type": "markdown",
   "metadata": {},
   "source": [
    "You can use the DataFrame property `shape` to access the row count and see how many rows meet the specified condition. Run the cell below and inspect the results. \n",
    "\n",
    "For more information about the `shape` property, consult the online [documentation](https://pandas.pydata.org/pandas-docs/dev/reference/api/pandas.DataFrame.shape.html)."
   ]
  },
  {
   "cell_type": "code",
   "execution_count": 23,
   "metadata": {},
   "outputs": [
    {
     "data": {
      "text/plain": [
       "20"
      ]
     },
     "execution_count": 23,
     "metadata": {},
     "output_type": "execute_result"
    }
   ],
   "source": [
    "df[df['x3']>1].shape[0]"
   ]
  },
  {
   "cell_type": "code",
   "execution_count": null,
   "metadata": {},
   "outputs": [],
   "source": []
  }
 ],
 "metadata": {
  "kernelspec": {
   "display_name": "Python 3",
   "language": "python",
   "name": "python3"
  },
  "language_info": {
   "codemirror_mode": {
    "name": "ipython",
    "version": 3
   },
   "file_extension": ".py",
   "mimetype": "text/x-python",
   "name": "python",
   "nbconvert_exporter": "python",
   "pygments_lexer": "ipython3",
   "version": "3.6.9"
  },
  "toc": {
   "base_numbering": 1,
   "nav_menu": {},
   "number_sections": false,
   "sideBar": true,
   "skip_h1_title": false,
   "title_cell": "Table of Contents",
   "title_sidebar": "Contents",
   "toc_cell": false,
   "toc_position": {},
   "toc_section_display": true,
   "toc_window_display": false
  },
  "varInspector": {
   "cols": {
    "lenName": 16,
    "lenType": 16,
    "lenVar": 40
   },
   "kernels_config": {
    "python": {
     "delete_cmd_postfix": "",
     "delete_cmd_prefix": "del ",
     "library": "var_list.py",
     "varRefreshCmd": "print(var_dic_list())"
    },
    "r": {
     "delete_cmd_postfix": ") ",
     "delete_cmd_prefix": "rm(",
     "library": "var_list.r",
     "varRefreshCmd": "cat(var_dic_list()) "
    }
   },
   "types_to_exclude": [
    "module",
    "function",
    "builtin_function_or_method",
    "instance",
    "_Feature"
   ],
   "window_display": false
  }
 },
 "nbformat": 4,
 "nbformat_minor": 5
}
